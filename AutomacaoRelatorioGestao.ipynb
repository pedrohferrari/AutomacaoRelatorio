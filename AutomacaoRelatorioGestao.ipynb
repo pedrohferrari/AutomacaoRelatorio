{
 "cells": [
  {
   "cell_type": "code",
   "execution_count": 12,
   "metadata": {},
   "outputs": [],
   "source": [
    "from selenium import webdriver\n",
    "from selenium.webdriver.common.by import By\n",
    "from selenium.webdriver.support.ui import WebDriverWait\n",
    "from selenium.webdriver.support import expected_conditions as EC\n",
    "from selenium.webdriver.common.action_chains import ActionChains\n",
    "import win32com.client as win32\n",
    "import os\n",
    "import subprocess\n",
    "from tkinter import *\n",
    "import pyautogui\n",
    "from time import *\n",
    "import pandas as pd"
   ]
  },
  {
   "cell_type": "code",
   "execution_count": 9,
   "metadata": {},
   "outputs": [],
   "source": [
    "class AvisoInicial:\n",
    " def __init__(self):\n",
    "  # Criando a janela principal\n",
    "  self.janela_principal = Tk()\n",
    "  self.janela_principal.eval('tk::PlaceWindow . center')\n",
    "  \n",
    "  # Criando os frames\n",
    "  self.frame1 = Frame(self.janela_principal)\n",
    "  self.frame2 = Frame(self.janela_principal)\n",
    "  self.frame3 = Frame(self.janela_principal)\n",
    "\n",
    "  \n",
    "  # Criando os labels\n",
    "  self.label1 = Label(self.frame1, text='AVISO', padx= 200, pady= 10)\n",
    "  self.label1['font'] = ['Arial', '20', 'bold']\n",
    "\n",
    "  self.label2 = Label(self.frame2, text= 'Ao iniciar a automação, NÃO MEXER NO MOUSE OU TECLADO!', padx = 10, pady= 20 )\n",
    "  self.label2['font'] = ['Arial', '15', 'bold']\n",
    "\n",
    "  self.button1 = Button(self.frame3, text= 'Entendido!', command= self.janela_principal.destroy )\n",
    "\n",
    "  # Posicionando os labels nos frames\n",
    "  self.label1.pack(side='top')\n",
    "  self.label2.pack()\n",
    "  self.button1.pack()\n",
    "\n",
    "  \n",
    "  # Posicionando o frame\n",
    "  self.frame1.pack()\n",
    "  self.frame2.pack()\n",
    "  self.frame3.pack()\n",
    " \n",
    "\n",
    "  # Fazer o Tkinter exibir o looping da janela\n",
    "  mainloop()\n",
    "\n",
    "Aviso = AvisoInicial()"
   ]
  },
  {
   "cell_type": "code",
   "execution_count": 10,
   "metadata": {},
   "outputs": [],
   "source": [
    "#Downloads das Pastas\n",
    "navegador = webdriver.Chrome()\n",
    "navegador.get('https://tableau.autoglass.com.br/#/views/RelatorioGestaoClientesAutomatizado/carteirasativas.csv')\n",
    "sleep(3)\n",
    "pyautogui.PAUSE = 1\n",
    "pyautogui.write('pedro.magnago')\n",
    "pyautogui.press('tab')\n",
    "pyautogui.write(senha)\n",
    "pyautogui.press('tab')\n",
    "pyautogui.press('enter')\n",
    "navegador.get('https://tableau.autoglass.com.br/#/views/RelatorioGestaoClientesAutomatizado/ndevendas.csv')\n",
    "navegador.get('https://tableau.autoglass.com.br/#/views/RelatorioGestaoClientesAutomatizado/ndechamadassaintes.csv')\n",
    "navegador.get('https://tableau.autoglass.com.br/#/views/RelatorioGestaoClientesAutomatizado/ndecotaes.csv')"
   ]
  },
  {
   "cell_type": "code",
   "execution_count": 13,
   "metadata": {},
   "outputs": [],
   "source": [
    "#Lendo os arquivos\n",
    "relatorio1 = pd.read_csv(r'C:\\\\Users\\\\pedro.magnago\\\\Downloads\\\\carteirasativas.csv',encoding= 'utf8', sep =';')\n",
    "relatorio2 = pd.read_csv(r'C:\\\\Users\\\\pedro.magnago\\\\Downloads\\\\ndevendas.csv', encoding= 'utf8', sep =';')\n",
    "relatorio3 = pd.read_csv(r'C:\\\\Users\\\\pedro.magnago\\\\Downloads\\\\ndechamadassaintes.csv',encoding= 'utf8', sep =';')\n",
    "relatorio4 = pd.read_csv(r'C:\\\\Users\\\\pedro.magnago\\\\Downloads\\\\ndecotaes.csv', encoding= 'utf8', sep =';')"
   ]
  },
  {
   "cell_type": "code",
   "execution_count": 14,
   "metadata": {},
   "outputs": [],
   "source": [
    "#Manipulando os dados no Pandas\n",
    "relatoriofinal = relatorio1.merge(relatorio2, how='left', on= 'cod cliente')\n",
    "relatoriofinal = relatoriofinal[['Equipe Venda', 'Nome Vendedor', 'cod cliente', 'Contagem distinta de Cód. Venda']]\n",
    "relatoriofinal\n",
    "relatoriofinal = relatoriofinal.rename({'Contagem distinta de Cód. Venda' : 'Nº de Vendas'}, axis = 1)\n",
    "relatoriofinal = relatoriofinal.merge(relatorio3, how='left', on= 'cod cliente')\n",
    "relatoriofinal\n",
    "relatoriofinal = relatoriofinal[['Equipe Venda', 'Nome Vendedor', 'cod cliente', 'Nº de Vendas', 'Contagem distinta de Cód. Chamada']]\n",
    "relatoriofinal = relatoriofinal.rename({'Contagem distinta de Cód. Chamada':'Nº de Chamadas Saintes'}, axis = 1)\n",
    "relatoriofinal = relatoriofinal.merge(relatorio4, how='left', on='cod cliente')\n",
    "relatoriofinal = relatoriofinal[['Equipe Venda', 'Nome Vendedor', 'cod cliente', 'Nº de Vendas', 'Nº de Chamadas Saintes', 'Quant. de Cotação']]\n",
    "relatoriofinal = relatoriofinal.rename({'Quant. de Cotação':'Nº de Cotações'}, axis = 1)\n",
    "relatoriofinal = relatoriofinal.drop_duplicates(subset='cod cliente')\n",
    "relatoriofinal = relatoriofinal.fillna(0)"
   ]
  },
  {
   "cell_type": "code",
   "execution_count": 15,
   "metadata": {},
   "outputs": [],
   "source": [
    "#Transformando em excel\n",
    "relatoriofinal.to_excel('C:\\\\Users\\\\pedro.magnago\\\\Downloads\\\\RelatorioGestaoClientes.xlsx')"
   ]
  },
  {
   "cell_type": "code",
   "execution_count": 16,
   "metadata": {},
   "outputs": [
    {
     "name": "stdout",
     "output_type": "stream",
     "text": [
      "Email Enviado\n"
     ]
    }
   ],
   "source": [
    "###Envio de email\n",
    "# criar a integração com o outlook\n",
    "outlook = win32.Dispatch('outlook.application')\n",
    "\n",
    "# criar um email\n",
    "email = outlook.CreateItem(0)\n",
    "\n",
    "\n",
    "# configurar as informações do seu e-mail\n",
    "email.To = \"pedro.magnago@autoglass.com.br\"\n",
    "email.Subject = \"Relatório de Clientes\"\n",
    "email.HTMLBody = f\"\"\"\n",
    "<p>Olá, prezado,</p> \n",
    "<p>Segue o relatório de clientes.</p>\n",
    "\n",
    "<p>Dúvidas, favor me procurar.</p>\n",
    "\n",
    "<p>Atenciosamente,</p>\n",
    "<p>Pedro Henrique</p>\n",
    "\"\"\"\n",
    "\n",
    "anexo = \"C:\\\\Users\\\\pedro.magnago\\\\Downloads\\\\RelatorioGestaoClientes.xlsx\"\n",
    "email.Attachments.Add(anexo)\n",
    "\n",
    "email.Send()\n",
    "print(\"Email Enviado\")"
   ]
  }
 ],
 "metadata": {
  "interpreter": {
   "hash": "e66c6f638712c764004bb419b6e0f2eb5df0ea07458cea9ce1818c184b73188d"
  },
  "kernelspec": {
   "display_name": "Python 3.9.7 ('base')",
   "language": "python",
   "name": "python3"
  },
  "language_info": {
   "codemirror_mode": {
    "name": "ipython",
    "version": 3
   },
   "file_extension": ".py",
   "mimetype": "text/x-python",
   "name": "python",
   "nbconvert_exporter": "python",
   "pygments_lexer": "ipython3",
   "version": "3.9.7"
  },
  "orig_nbformat": 4
 },
 "nbformat": 4,
 "nbformat_minor": 2
}
